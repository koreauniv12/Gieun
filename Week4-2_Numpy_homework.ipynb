{
 "cells": [
  {
   "cell_type": "markdown",
   "metadata": {},
   "source": [
    "During this exercise, it was important to constuct a function with minimum functionality so it could be easily used with other functions."
   ]
  },
  {
   "cell_type": "code",
   "execution_count": 1,
   "metadata": {},
   "outputs": [
    {
     "name": "stdout",
     "output_type": "stream",
     "text": [
      "Available functions: downlad, login \n",
      "Available object: headers(dict with my user-agent info)\n"
     ]
    }
   ],
   "source": [
    "import numpy as np\n",
    "from myfunctions import *"
   ]
  },
  {
   "cell_type": "code",
   "execution_count": 72,
   "metadata": {},
   "outputs": [],
   "source": [
    "import networkx as nx\n",
    "from bs4 import BeautifulSoup\n",
    "import copy\n",
    "import matplotlib.pyplot as plt\n",
    "from pyvis.network import Network"
   ]
  },
  {
   "cell_type": "markdown",
   "metadata": {},
   "source": [
    "first section"
   ]
  },
  {
   "cell_type": "code",
   "execution_count": 3,
   "metadata": {},
   "outputs": [],
   "source": [
    "url = 'https://docs.scipy.org/doc/numpy/reference/index.html'\n",
    "html = download('get', url)\n",
    "dom = BeautifulSoup(html.text, 'html')"
   ]
  },
  {
   "cell_type": "code",
   "execution_count": 4,
   "metadata": {},
   "outputs": [],
   "source": [
    "def makeDict(base, dom, level):\n",
    "    foo = dict()\n",
    "    foo['name'] = dom.find('a').text\n",
    "    foo['url'] = base + dom.find('a').get_attribute_list('href')[0]\n",
    "    tempList = list()\n",
    "    for i in dom.findAll('li', {'class':'toctree-l2'}):\n",
    "        temp = dict()\n",
    "        temp['name'] = i.text\n",
    "        temp['url'] = i.find('a').get_attribute_list('href')[0]\n",
    "        tempList.append(temp)\n",
    "    foo[level] = tempList\n",
    "    return foo"
   ]
  },
  {
   "cell_type": "code",
   "execution_count": 7,
   "metadata": {},
   "outputs": [],
   "source": [
    "###########################################################################################\n",
    "# 마중물\n",
    "d = {\"name\": \"Numpy Reference\", \n",
    "     \"url\": \"https://docs.scipy.org/doc/numpy/reference/index.html\"}\n",
    "base = \"https://docs.scipy.org/doc/numpy/reference/\"\n",
    "def mine(d, level):\n",
    "    html = download('get', d['url'])\n",
    "    dom = BeautifulSoup(html.text, 'html')\n",
    "    body = dom.find('div', {'id':'spc-section-body'})\n",
    "    foo = dict()\n",
    "    foo['name'] = d['name']\n",
    "    \n",
    "    if body.find('div', {'class':'toctree-wrapper compound'}):\n",
    "        reference = dom.findAll('li', {\"class\":\"toctree-l1\"})\n",
    "        templist= list()\n",
    "        \n",
    "        for i in reference:\n",
    "            templist.append(makeDict(base, i, level))\n",
    "        body.find('div', {'class':'toctree-wrapper compound'}).decompose() # does not return\n",
    "        foo['content'] = body.text \n",
    "        foo['child'] = templist\n",
    "    else:\n",
    "        foo['content'] = body.text\n",
    "    return foo"
   ]
  },
  {
   "cell_type": "code",
   "execution_count": 22,
   "metadata": {},
   "outputs": [],
   "source": [
    "a = mine(d, 'firstchildren')"
   ]
  },
  {
   "cell_type": "code",
   "execution_count": 25,
   "metadata": {},
   "outputs": [
    {
     "name": "stdout",
     "output_type": "stream",
     "text": [
      "0\n",
      "dict_keys(['content', 'name', 'child'])\n",
      "1\n",
      "dict_keys(['content', 'name'])\n",
      "2\n",
      "dict_keys(['content', 'name'])\n",
      "3\n",
      "dict_keys(['content', 'name', 'child'])\n",
      "4\n",
      "dict_keys(['content', 'name'])\n",
      "5\n",
      "dict_keys(['content', 'name'])\n",
      "6\n",
      "dict_keys(['content', 'name', 'child'])\n",
      "7\n",
      "dict_keys(['content', 'name', 'child'])\n",
      "8\n",
      "dict_keys(['content', 'name', 'child'])\n"
     ]
    }
   ],
   "source": [
    "for x, i in zip(a['child'], range(len(a['child']))):\n",
    "    print(i)\n",
    "    b = mine(x, 'secondchildren')\n",
    "    print(b.keys())\n",
    "    a['child'][i]['content'] = b['content']\n",
    "    try:\n",
    "        a['child'][i]['firstchildren'] = b['child']\n",
    "    except:\n",
    "        continue"
   ]
  },
  {
   "cell_type": "code",
   "execution_count": 14,
   "metadata": {},
   "outputs": [],
   "source": [
    "b = copy.deepcopy(a)"
   ]
  },
  {
   "cell_type": "code",
   "execution_count": 15,
   "metadata": {},
   "outputs": [],
   "source": [
    "a = copy.deepcopy(b)"
   ]
  },
  {
   "cell_type": "code",
   "execution_count": 57,
   "metadata": {},
   "outputs": [
    {
     "name": "stdout",
     "output_type": "stream",
     "text": [
      "Array objects ____\n",
      "Constants ____\n",
      "Universal functions (ufunc) ____\n",
      "Routines ____\n",
      "Packaging (numpy.distutils) ____\n",
      "NumPy Distutils - Users Guide ____\n",
      "NumPy C-API ____\n",
      "NumPy internals ____\n",
      "NumPy and SWIG ____\n"
     ]
    }
   ],
   "source": [
    "for first, x in zip(a['child'], range(len(a['child']))):\n",
    "    print(first['name'], '____')\n",
    "    \n",
    "    for second, y in zip(first['firstchildren'], range(len(first['firstchildren']))):\n",
    "#         print(second['name'])\n",
    "        if 'secondchildren' in a['child'][x]['firstchildren'][y].keys():\n",
    "            h = download('get', a['child'][x]['firstchildren'][y]['url'])\n",
    "            dom = BeautifulSoup(h.text, 'html')\n",
    "            body = dom.find('div', {'id':'spc-section-body'})\n",
    "            \n",
    "            a['child'][x]['firstchildren'][y]['content'] = body.text\n",
    "        else:\n",
    "            continue"
   ]
  },
  {
   "cell_type": "code",
   "execution_count": 101,
   "metadata": {},
   "outputs": [],
   "source": [
    "n = []\n",
    "e = []\n",
    "DG = Network()\n",
    "DG.add_node(a['name'], color = '#063c7a')\n",
    "for i in a['child']:\n",
    "#     print(i['name'], \"------\")\n",
    "    DG.add_node(i['name'], color = '#9ec0e8')\n",
    "    DG.add_edge(a['name'], i['name'])\n",
    "    for x in i['firstchildren']:\n",
    "#         print(x['name'])\n",
    "        DG.add_node(x['name'], color= '#bae6ce')\n",
    "        DG.add_edge(i['name'], x['name'])\n",
    "        \n",
    "        if 'secondchildren' in x.keys():\n",
    "            for y in x['secondchildren']:\n",
    "                DG.add_node(y['name'], color = '#d4e6a5')\n",
    "                DG.add_edge(x['name'], y['name'])"
   ]
  },
  {
   "cell_type": "code",
   "execution_count": 103,
   "metadata": {},
   "outputs": [],
   "source": [
    "DG.show('numpy_doc_networkx.html')"
   ]
  },
  {
   "cell_type": "markdown",
   "metadata": {},
   "source": [
    "--END--"
   ]
  }
 ],
 "metadata": {
  "kernelspec": {
   "display_name": "Python 3",
   "language": "python",
   "name": "python3"
  },
  "language_info": {
   "codemirror_mode": {
    "name": "ipython",
    "version": 3
   },
   "file_extension": ".py",
   "mimetype": "text/x-python",
   "name": "python",
   "nbconvert_exporter": "python",
   "pygments_lexer": "ipython3",
   "version": "3.5.6"
  }
 },
 "nbformat": 4,
 "nbformat_minor": 2
}
